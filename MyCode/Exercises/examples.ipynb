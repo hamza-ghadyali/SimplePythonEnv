{
 "cells": [
  {
   "cell_type": "code",
   "execution_count": 6,
   "id": "3e5a9b7a-6c58-4b5d-b5e8-39c3e6852984",
   "metadata": {},
   "outputs": [
    {
     "name": "stdout",
     "output_type": "stream",
     "text": [
      "highwayrobbery\n"
     ]
    }
   ],
   "source": [
    "a = \"\".join([\"high\",\"way\",\"robbery\"])\n",
    "print(a)"
   ]
  },
  {
   "cell_type": "code",
   "execution_count": 7,
   "id": "d5b2dfe8-c928-48b4-bf17-abb499e2185c",
   "metadata": {},
   "outputs": [
    {
     "data": {
      "text/plain": [
       "('high', 'way', 'robbery')"
      ]
     },
     "execution_count": 7,
     "metadata": {},
     "output_type": "execute_result"
    }
   ],
   "source": [
    "a.partition(\"way\")"
   ]
  },
  {
   "cell_type": "code",
   "execution_count": 8,
   "id": "db4418f7-6b50-4f48-a995-dd1bc9d5e5d4",
   "metadata": {},
   "outputs": [],
   "source": [
    "import math"
   ]
  },
  {
   "cell_type": "code",
   "execution_count": 9,
   "id": "e7c7a3df-f3b3-4983-b427-98ddaa76c152",
   "metadata": {},
   "outputs": [
    {
     "data": {
      "text/plain": [
       "'The value of tau is 6.283'"
      ]
     },
     "execution_count": 9,
     "metadata": {},
     "output_type": "execute_result"
    }
   ],
   "source": [
    "f\"The value of tau is {2*math.pi:.3f}\""
   ]
  },
  {
   "cell_type": "code",
   "execution_count": 18,
   "id": "bba3e27d-5b8f-4c45-a908-e05908bb8112",
   "metadata": {},
   "outputs": [
    {
     "data": {
      "text/plain": [
       "'The value of e-2.7 is 0.0182818285'"
      ]
     },
     "execution_count": 18,
     "metadata": {},
     "output_type": "execute_result"
    }
   ],
   "source": [
    "f\"The value of e-2.7 is {math.e-2.7:.10f}\""
   ]
  },
  {
   "cell_type": "code",
   "execution_count": 19,
   "id": "1f4e0bfd-e9ce-4a7b-be93-9c3fc369028c",
   "metadata": {},
   "outputs": [],
   "source": [
    "s = [5,45,67]\n",
    "t = s # points to the same unerlying object\n",
    "r = s[:] # makes a copy"
   ]
  },
  {
   "cell_type": "code",
   "execution_count": 20,
   "id": "717d2a66-0643-4fde-8b49-774165e070b0",
   "metadata": {},
   "outputs": [
    {
     "data": {
      "text/plain": [
       "True"
      ]
     },
     "execution_count": 20,
     "metadata": {},
     "output_type": "execute_result"
    }
   ],
   "source": [
    "t is s"
   ]
  },
  {
   "cell_type": "code",
   "execution_count": 21,
   "id": "672a58b0-7423-4370-a604-bdfc1de25d60",
   "metadata": {},
   "outputs": [
    {
     "data": {
      "text/plain": [
       "False"
      ]
     },
     "execution_count": 21,
     "metadata": {},
     "output_type": "execute_result"
    }
   ],
   "source": [
    "r is s"
   ]
  },
  {
   "cell_type": "code",
   "execution_count": 23,
   "id": "c28d65ed-7e74-40bc-a00f-0b8350c62af8",
   "metadata": {},
   "outputs": [
    {
     "data": {
      "text/plain": [
       "True"
      ]
     },
     "execution_count": 23,
     "metadata": {},
     "output_type": "execute_result"
    }
   ],
   "source": [
    "r[1] is s[1] \n",
    "# r and s point to different lists \n",
    "# but both lists point to the same underlying int objects"
   ]
  },
  {
   "cell_type": "code",
   "execution_count": 24,
   "id": "0d2f72cb-c308-4b65-bb45-7d72ca012865",
   "metadata": {},
   "outputs": [
    {
     "data": {
      "text/plain": [
       "False"
      ]
     },
     "execution_count": 24,
     "metadata": {},
     "output_type": "execute_result"
    }
   ],
   "source": [
    "r2 = s.copy() # more readable than s[:] synmtax\n",
    "r2 is s"
   ]
  },
  {
   "cell_type": "code",
   "execution_count": 25,
   "id": "db56c8b3-9d89-4037-9ec3-2e7657b324e2",
   "metadata": {},
   "outputs": [
    {
     "data": {
      "text/plain": [
       "True"
      ]
     },
     "execution_count": 25,
     "metadata": {},
     "output_type": "execute_result"
    }
   ],
   "source": [
    "r2[1] is s[1]"
   ]
  },
  {
   "cell_type": "code",
   "execution_count": 37,
   "id": "80779f7c-cb27-40d2-aa54-8d05740580e1",
   "metadata": {},
   "outputs": [
    {
     "name": "stdout",
     "output_type": "stream",
     "text": [
      "False\n"
     ]
    },
    {
     "data": {
      "text/plain": [
       "366"
      ]
     },
     "execution_count": 37,
     "metadata": {},
     "output_type": "execute_result"
    }
   ],
   "source": [
    " a = [365,366]\n",
    "s = [1, 2, 4, 6, a, 9]\n",
    "r = s.copy()\n",
    "print (r is s)\n",
    "a.pop()"
   ]
  },
  {
   "cell_type": "code",
   "execution_count": 38,
   "id": "ff8327cf-d8b0-44cf-accc-b55086e0d994",
   "metadata": {},
   "outputs": [
    {
     "data": {
      "text/plain": [
       "[1, 2, 4, 6, [365], 9]"
      ]
     },
     "execution_count": 38,
     "metadata": {},
     "output_type": "execute_result"
    }
   ],
   "source": [
    "r"
   ]
  },
  {
   "cell_type": "code",
   "execution_count": 39,
   "id": "da3c6530-e434-4d9e-aca7-b4f0764b35a3",
   "metadata": {},
   "outputs": [
    {
     "data": {
      "text/plain": [
       "[1, 2, 4, 6, [365], 9]"
      ]
     },
     "execution_count": 39,
     "metadata": {},
     "output_type": "execute_result"
    }
   ],
   "source": [
    "s"
   ]
  },
  {
   "cell_type": "code",
   "execution_count": 40,
   "id": "12e0e2b1-c16d-4aac-a70b-aaccbed90e51",
   "metadata": {},
   "outputs": [
    {
     "data": {
      "text/plain": [
       "True"
      ]
     },
     "execution_count": 40,
     "metadata": {},
     "output_type": "execute_result"
    }
   ],
   "source": [
    "r[-2] is a"
   ]
  },
  {
   "cell_type": "code",
   "execution_count": 41,
   "id": "e9384883-2907-4540-9029-945e270794ac",
   "metadata": {},
   "outputs": [
    {
     "data": {
      "text/plain": [
       "True"
      ]
     },
     "execution_count": 41,
     "metadata": {},
     "output_type": "execute_result"
    }
   ],
   "source": [
    "s[-2] is a"
   ]
  },
  {
   "cell_type": "code",
   "execution_count": 42,
   "id": "b47064e1-6b0e-4768-84c7-663276659dd7",
   "metadata": {},
   "outputs": [],
   "source": [
    "# r and s were separate lists \n",
    "# but the fifth element was pointing to a mutable object referenced by a,\n",
    "# so when it changed, both r and s are changed as well"
   ]
  },
  {
   "cell_type": "code",
   "execution_count": 43,
   "id": "9d07e824-2caf-461f-aee6-564117b6e40f",
   "metadata": {},
   "outputs": [],
   "source": [
    "# these are shallow copies where\n",
    "# new list contains same object references as old list"
   ]
  },
  {
   "cell_type": "code",
   "execution_count": 49,
   "id": "f410144d-e9bd-4476-8740-d1a8c41d59ce",
   "metadata": {},
   "outputs": [
    {
     "data": {
      "text/plain": [
       "['Who', 'did', 'I', 'call', 'before', 'Fred', 'called', 'me']"
      ]
     },
     "execution_count": 49,
     "metadata": {},
     "output_type": "execute_result"
    }
   ],
   "source": [
    "h = \"Who did I call before Fred called me\".split()\n",
    "h"
   ]
  },
  {
   "cell_type": "code",
   "execution_count": 50,
   "id": "ea1fb737-35cb-42dc-a9d5-e432c7b1f3c5",
   "metadata": {},
   "outputs": [
    {
     "data": {
      "text/plain": [
       "['I', 'me', 'Who', 'did', 'call', 'Fred', 'before', 'called']"
      ]
     },
     "execution_count": 50,
     "metadata": {},
     "output_type": "execute_result"
    }
   ],
   "source": [
    "h.sort(key=len)\n",
    "h"
   ]
  },
  {
   "cell_type": "code",
   "execution_count": 55,
   "id": "12ed0bf3-3298-4703-88cf-793f018120c4",
   "metadata": {},
   "outputs": [
    {
     "data": {
      "text/plain": [
       "False"
      ]
     },
     "execution_count": 55,
     "metadata": {},
     "output_type": "execute_result"
    }
   ],
   "source": [
    "x = [4,3,2,1]\n",
    "y = sorted(x)\n",
    "y is x"
   ]
  },
  {
   "cell_type": "code",
   "execution_count": 59,
   "id": "d8a14350-8f23-4708-9b93-2d0134eea32a",
   "metadata": {},
   "outputs": [
    {
     "data": {
      "text/plain": [
       "[4, 3, 2, 1]"
      ]
     },
     "execution_count": 59,
     "metadata": {},
     "output_type": "execute_result"
    }
   ],
   "source": [
    "x"
   ]
  },
  {
   "cell_type": "code",
   "execution_count": 56,
   "id": "f7bb4d0b-4bd6-49c8-84b5-e19482f7082b",
   "metadata": {},
   "outputs": [
    {
     "data": {
      "text/plain": [
       "[1, 2, 3, 4]"
      ]
     },
     "execution_count": 56,
     "metadata": {},
     "output_type": "execute_result"
    }
   ],
   "source": [
    "y"
   ]
  },
  {
   "cell_type": "code",
   "execution_count": 57,
   "id": "854f029c-6f58-4fed-aa3c-9fa90667ff8f",
   "metadata": {},
   "outputs": [
    {
     "data": {
      "text/plain": [
       "True"
      ]
     },
     "execution_count": 57,
     "metadata": {},
     "output_type": "execute_result"
    }
   ],
   "source": [
    "y[0] is x[-1]"
   ]
  },
  {
   "cell_type": "code",
   "execution_count": 58,
   "id": "60fcfbd0-d899-40b3-b08e-39c318467107",
   "metadata": {},
   "outputs": [],
   "source": [
    "# although sorted outputs a new list, it is still a kind of shallow \"copy\""
   ]
  },
  {
   "cell_type": "code",
   "execution_count": 60,
   "id": "92d8d7fd-efaa-444a-9c3c-3e1e198a8b13",
   "metadata": {},
   "outputs": [
    {
     "data": {
      "text/plain": [
       "list"
      ]
     },
     "execution_count": 60,
     "metadata": {},
     "output_type": "execute_result"
    }
   ],
   "source": [
    "type(y)"
   ]
  },
  {
   "cell_type": "code",
   "execution_count": 62,
   "id": "d68029ed-a80b-46dc-a85d-6b53ffc1278e",
   "metadata": {},
   "outputs": [
    {
     "data": {
      "text/plain": [
       "list_reverseiterator"
      ]
     },
     "execution_count": 62,
     "metadata": {},
     "output_type": "execute_result"
    }
   ],
   "source": [
    "type(reversed(y))"
   ]
  },
  {
   "cell_type": "code",
   "execution_count": 63,
   "id": "2fdc03cc-2f22-453b-93fb-e8a4be67af7d",
   "metadata": {},
   "outputs": [
    {
     "name": "stdout",
     "output_type": "stream",
     "text": [
      "Help on class KeyError in module builtins:\n",
      "\n",
      "class KeyError(LookupError)\n",
      " |  Mapping key not found.\n",
      " |\n",
      " |  Method resolution order:\n",
      " |      KeyError\n",
      " |      LookupError\n",
      " |      Exception\n",
      " |      BaseException\n",
      " |      object\n",
      " |\n",
      " |  Methods defined here:\n",
      " |\n",
      " |  __init__(self, /, *args, **kwargs)\n",
      " |      Initialize self.  See help(type(self)) for accurate signature.\n",
      " |\n",
      " |  __str__(self, /)\n",
      " |      Return str(self).\n",
      " |\n",
      " |  ----------------------------------------------------------------------\n",
      " |  Static methods inherited from LookupError:\n",
      " |\n",
      " |  __new__(*args, **kwargs) from builtins.type\n",
      " |      Create and return a new object.  See help(type) for accurate signature.\n",
      " |\n",
      " |  ----------------------------------------------------------------------\n",
      " |  Methods inherited from BaseException:\n",
      " |\n",
      " |  __delattr__(self, name, /)\n",
      " |      Implement delattr(self, name).\n",
      " |\n",
      " |  __getattribute__(self, name, /)\n",
      " |      Return getattr(self, name).\n",
      " |\n",
      " |  __reduce__(...)\n",
      " |      Helper for pickle.\n",
      " |\n",
      " |  __repr__(self, /)\n",
      " |      Return repr(self).\n",
      " |\n",
      " |  __setattr__(self, name, value, /)\n",
      " |      Implement setattr(self, name, value).\n",
      " |\n",
      " |  __setstate__(...)\n",
      " |\n",
      " |  add_note(...)\n",
      " |      Exception.add_note(note) --\n",
      " |      add a note to the exception\n",
      " |\n",
      " |  with_traceback(...)\n",
      " |      Exception.with_traceback(tb) --\n",
      " |      set self.__traceback__ to tb and return self.\n",
      " |\n",
      " |  ----------------------------------------------------------------------\n",
      " |  Data descriptors inherited from BaseException:\n",
      " |\n",
      " |  __cause__\n",
      " |      exception cause\n",
      " |\n",
      " |  __context__\n",
      " |      exception context\n",
      " |\n",
      " |  __dict__\n",
      " |\n",
      " |  __suppress_context__\n",
      " |\n",
      " |  __traceback__\n",
      " |\n",
      " |  args\n",
      "\n"
     ]
    }
   ],
   "source": [
    "help(KeyError)"
   ]
  },
  {
   "cell_type": "code",
   "execution_count": 64,
   "id": "c1e1d07e-40ad-4151-ac4a-08c242293460",
   "metadata": {},
   "outputs": [],
   "source": [
    "# try except blocks for exception handling\n",
    "# try except finally (finally block can perform some clean up actions after exception handling)"
   ]
  },
  {
   "cell_type": "code",
   "execution_count": 65,
   "id": "19a6e0af-b308-4735-85a7-c9c1f8c23415",
   "metadata": {},
   "outputs": [],
   "source": [
    "from pprint import pprint as pp"
   ]
  },
  {
   "cell_type": "code",
   "execution_count": 68,
   "id": "db0ef739-14f8-4111-8dad-5c7e0a410ee3",
   "metadata": {},
   "outputs": [
    {
     "name": "stdout",
     "output_type": "stream",
     "text": [
      "{'DC': 'USA', 'London': 'UK', 'Ottawa': 'Canada'}\n"
     ]
    }
   ],
   "source": [
    "# Invert Dictinoary using Comprehensions\n",
    "country_to_capital = {'USA': 'DC', 'UK': 'London', 'Canada': 'Ottawa'}\n",
    "\n",
    "capital_to_country = {capital:country for country, capital in country_to_capital.items()}\n",
    "\n",
    "pp(capital_to_country)"
   ]
  },
  {
   "cell_type": "code",
   "execution_count": 69,
   "id": "a64bb3d6-a1b2-4b23-a24e-a8ee016b7b60",
   "metadata": {},
   "outputs": [],
   "source": [
    "sample_list = ['USA', 'Canada', 'Mexico']"
   ]
  },
  {
   "cell_type": "code",
   "execution_count": 71,
   "id": "6526f043-47ae-4cbb-a7a1-63886d0f9e99",
   "metadata": {},
   "outputs": [
    {
     "name": "stdout",
     "output_type": "stream",
     "text": [
      "USA\n",
      "Canada\n",
      "Mexico\n"
     ]
    }
   ],
   "source": [
    "def special(iterable):\n",
    "    iterator = iter(iterable)\n",
    "    while True:\n",
    "        try:\n",
    "            print(next(iterator))\n",
    "        except StopIteration:\n",
    "            return\n",
    "\n",
    "special(sample_list)"
   ]
  },
  {
   "cell_type": "code",
   "execution_count": 99,
   "id": "5dcf6a25-9424-4265-86a1-753d7336d817",
   "metadata": {},
   "outputs": [],
   "source": [
    "def special(iterable):\n",
    "    iterator = iter(iterable)\n",
    "    while True:\n",
    "        try:\n",
    "            yield next(iterator)\n",
    "        except StopIteration:\n",
    "            return"
   ]
  },
  {
   "cell_type": "code",
   "execution_count": 100,
   "id": "f79a1cb9-75cb-4a5f-86ad-39b6732b7745",
   "metadata": {},
   "outputs": [],
   "source": [
    "g = special(sample_list)"
   ]
  },
  {
   "cell_type": "code",
   "execution_count": 101,
   "id": "af7d0943-4637-4e0d-8de0-43df0387fba4",
   "metadata": {},
   "outputs": [
    {
     "data": {
      "text/plain": [
       "'USA'"
      ]
     },
     "execution_count": 101,
     "metadata": {},
     "output_type": "execute_result"
    }
   ],
   "source": [
    "next(g)"
   ]
  },
  {
   "cell_type": "code",
   "execution_count": 102,
   "id": "40292da9-62ab-443d-b565-5b614eeec455",
   "metadata": {},
   "outputs": [
    {
     "data": {
      "text/plain": [
       "'Canada'"
      ]
     },
     "execution_count": 102,
     "metadata": {},
     "output_type": "execute_result"
    }
   ],
   "source": [
    "next(g)"
   ]
  },
  {
   "cell_type": "code",
   "execution_count": 103,
   "id": "372fa25a-3ac2-4870-8e4b-810c82dc983b",
   "metadata": {},
   "outputs": [
    {
     "data": {
      "text/plain": [
       "'Mexico'"
      ]
     },
     "execution_count": 103,
     "metadata": {},
     "output_type": "execute_result"
    }
   ],
   "source": [
    "next(g)"
   ]
  },
  {
   "cell_type": "code",
   "execution_count": 104,
   "id": "6d582e0c-bc28-49e1-b98e-e1030640fb36",
   "metadata": {},
   "outputs": [
    {
     "ename": "StopIteration",
     "evalue": "",
     "output_type": "error",
     "traceback": [
      "\u001b[0;31m---------------------------------------------------------------------------\u001b[0m",
      "\u001b[0;31mStopIteration\u001b[0m                             Traceback (most recent call last)",
      "Cell \u001b[0;32mIn[104], line 1\u001b[0m\n\u001b[0;32m----> 1\u001b[0m \u001b[38;5;28;43mnext\u001b[39;49m\u001b[43m(\u001b[49m\u001b[43mg\u001b[49m\u001b[43m)\u001b[49m\n",
      "\u001b[0;31mStopIteration\u001b[0m: "
     ]
    }
   ],
   "source": [
    "next(g)"
   ]
  },
  {
   "cell_type": "code",
   "execution_count": 105,
   "id": "14a5c2f5-aeb1-47cd-ad67-497a51f866f6",
   "metadata": {},
   "outputs": [
    {
     "data": {
      "text/plain": [
       "\u001b[0;31mSignature:\u001b[0m \u001b[0ma\u001b[0m\u001b[0;34m.\u001b[0m\u001b[0mtitle\u001b[0m\u001b[0;34m(\u001b[0m\u001b[0;34m)\u001b[0m\u001b[0;34m\u001b[0m\u001b[0;34m\u001b[0m\u001b[0m\n",
       "\u001b[0;31mDocstring:\u001b[0m\n",
       "Return a version of the string where each word is titlecased.\n",
       "\n",
       "More specifically, words start with uppercased characters and all remaining\n",
       "cased characters have lower case.\n",
       "\u001b[0;31mType:\u001b[0m      builtin_function_or_method"
      ]
     },
     "metadata": {},
     "output_type": "display_data"
    }
   ],
   "source": [
    "a = 'USA'\n",
    "a.title?"
   ]
  },
  {
   "cell_type": "code",
   "execution_count": 106,
   "id": "525fb8c5-90ca-4bd0-8490-97dc640ac15e",
   "metadata": {},
   "outputs": [
    {
     "data": {
      "text/plain": [
       "'Usa'"
      ]
     },
     "execution_count": 106,
     "metadata": {},
     "output_type": "execute_result"
    }
   ],
   "source": [
    "a.title()"
   ]
  },
  {
   "cell_type": "code",
   "execution_count": null,
   "id": "aeee62f4-847c-4c99-84aa-558e16901c34",
   "metadata": {},
   "outputs": [],
   "source": [
    "# See itertools module for interesting examples"
   ]
  },
  {
   "cell_type": "code",
   "execution_count": 110,
   "id": "69eff838-a452-4894-b47b-f3f6aa05028f",
   "metadata": {},
   "outputs": [
    {
     "data": {
      "text/plain": [
       "[1000, 960, 918, 874, 828, 779, 728, 674, 618, 559, 497]"
      ]
     },
     "execution_count": 110,
     "metadata": {},
     "output_type": "execute_result"
    }
   ],
   "source": [
    "# Amortize a 5% loan of $1000 with 10 annual payments of $90\n",
    "from itertools import accumulate, repeat\n",
    "account_update = lambda bal, pmt: round(bal * 1.05) + pmt\n",
    "\n",
    "list(accumulate(repeat(-90,10), account_update, initial=1000))"
   ]
  },
  {
   "cell_type": "code",
   "execution_count": 111,
   "id": "21cdac7d-4da4-4d9c-be63-d33d2a8a2f98",
   "metadata": {},
   "outputs": [],
   "source": [
    "a = [None] + ['a','b','c']"
   ]
  },
  {
   "cell_type": "code",
   "execution_count": 112,
   "id": "7d6809eb-6e86-43a6-9324-86cef37da70f",
   "metadata": {},
   "outputs": [
    {
     "data": {
      "text/plain": [
       "[None, 'a', 'b', 'c']"
      ]
     },
     "execution_count": 112,
     "metadata": {},
     "output_type": "execute_result"
    }
   ],
   "source": [
    "a"
   ]
  },
  {
   "cell_type": "code",
   "execution_count": 113,
   "id": "43f92292-29cb-4508-90bd-91b5f60ea4f6",
   "metadata": {},
   "outputs": [],
   "source": [
    "a = [None, 'a', 'b', 'c']"
   ]
  },
  {
   "cell_type": "code",
   "execution_count": 114,
   "id": "6e30652b-461a-400c-8955-1499fbf7f299",
   "metadata": {},
   "outputs": [
    {
     "data": {
      "text/plain": [
       "[None, 'a', 'b', 'c']"
      ]
     },
     "execution_count": 114,
     "metadata": {},
     "output_type": "execute_result"
    }
   ],
   "source": [
    "a"
   ]
  },
  {
   "cell_type": "markdown",
   "id": "5caadcaa-e234-4c0a-9322-da1026456f8c",
   "metadata": {},
   "source": [
    " class methods for implementation details \n",
    " can be named with a leading underscore to mark as private\n",
    " e.g. `self._parse_special_object()`"
   ]
  },
  {
   "cell_type": "markdown",
   "id": "e974b2d4-6fa2-44ab-9d62-63a8962b72de",
   "metadata": {},
   "source": [
    "generator function can be useful for turning a custom data structure\n",
    "into an iterable\n",
    "\n",
    "for example suppose you created a list of dicts\n",
    "the list position of the dict along with the value is a triplet\n",
    "it is possible that you might want some subset of this\n",
    "and you might want to loop through these values\n",
    "if you define your own custom generator fucntion,\n",
    "you can `yield` the relevant data and thereby have a nice iterator"
   ]
  },
  {
   "cell_type": "markdown",
   "id": "1d07e588-9923-40ce-a39b-f4a4adcc19a5",
   "metadata": {},
   "source": [
    "\"resources\" - program elements that must be released or closed after use\n",
    "\n",
    "manage resources with python's context managers `with` keyword\n",
    "example of a resource is a file\n",
    "there are many other file-like objects"
   ]
  },
  {
   "cell_type": "code",
   "execution_count": 115,
   "id": "c525ef1d-9ff4-4d40-b152-cdb3c571e724",
   "metadata": {},
   "outputs": [],
   "source": [
    "f = open(\"wasteland.txt\", mode=\"wt\", encoding=\"utf-8\")"
   ]
  },
  {
   "cell_type": "code",
   "execution_count": 116,
   "id": "f297a28b-1df0-490c-a57e-365f20796bd6",
   "metadata": {},
   "outputs": [
    {
     "name": "stdout",
     "output_type": "stream",
     "text": [
      "Help on TextIOWrapper in module _io object:\n",
      "\n",
      "class TextIOWrapper(_TextIOBase)\n",
      " |  TextIOWrapper(buffer, encoding=None, errors=None, newline=None, line_buffering=False, write_through=False)\n",
      " |\n",
      " |  Character and line based layer over a BufferedIOBase object, buffer.\n",
      " |\n",
      " |  encoding gives the name of the encoding that the stream will be\n",
      " |  decoded or encoded with. It defaults to locale.getencoding().\n",
      " |\n",
      " |  errors determines the strictness of encoding and decoding (see\n",
      " |  help(codecs.Codec) or the documentation for codecs.register) and\n",
      " |  defaults to \"strict\".\n",
      " |\n",
      " |  newline controls how line endings are handled. It can be None, '',\n",
      " |  '\\n', '\\r', and '\\r\\n'.  It works as follows:\n",
      " |\n",
      " |  * On input, if newline is None, universal newlines mode is\n",
      " |    enabled. Lines in the input can end in '\\n', '\\r', or '\\r\\n', and\n",
      " |    these are translated into '\\n' before being returned to the\n",
      " |    caller. If it is '', universal newline mode is enabled, but line\n",
      " |    endings are returned to the caller untranslated. If it has any of\n",
      " |    the other legal values, input lines are only terminated by the given\n",
      " |    string, and the line ending is returned to the caller untranslated.\n",
      " |\n",
      " |  * On output, if newline is None, any '\\n' characters written are\n",
      " |    translated to the system default line separator, os.linesep. If\n",
      " |    newline is '' or '\\n', no translation takes place. If newline is any\n",
      " |    of the other legal values, any '\\n' characters written are translated\n",
      " |    to the given string.\n",
      " |\n",
      " |  If line_buffering is True, a call to flush is implied when a call to\n",
      " |  write contains a newline character.\n",
      " |\n",
      " |  Method resolution order:\n",
      " |      TextIOWrapper\n",
      " |      _TextIOBase\n",
      " |      _IOBase\n",
      " |      builtins.object\n",
      " |\n",
      " |  Methods defined here:\n",
      " |\n",
      " |  __init__(self, /, *args, **kwargs)\n",
      " |      Initialize self.  See help(type(self)) for accurate signature.\n",
      " |\n",
      " |  __next__(self, /)\n",
      " |      Implement next(self).\n",
      " |\n",
      " |  __reduce__(...)\n",
      " |      Helper for pickle.\n",
      " |\n",
      " |  __reduce_ex__(...)\n",
      " |      Helper for pickle.\n",
      " |\n",
      " |  __repr__(self, /)\n",
      " |      Return repr(self).\n",
      " |\n",
      " |  close(self, /)\n",
      " |      Flush and close the IO object.\n",
      " |\n",
      " |      This method has no effect if the file is already closed.\n",
      " |\n",
      " |  detach(self, /)\n",
      " |      Separate the underlying buffer from the TextIOBase and return it.\n",
      " |\n",
      " |      After the underlying buffer has been detached, the TextIO is in an unusable state.\n",
      " |\n",
      " |  fileno(self, /)\n",
      " |      Return underlying file descriptor if one exists.\n",
      " |\n",
      " |      Raise OSError if the IO object does not use a file descriptor.\n",
      " |\n",
      " |  flush(self, /)\n",
      " |      Flush write buffers, if applicable.\n",
      " |\n",
      " |      This is not implemented for read-only and non-blocking streams.\n",
      " |\n",
      " |  isatty(self, /)\n",
      " |      Return whether this is an 'interactive' stream.\n",
      " |\n",
      " |      Return False if it can't be determined.\n",
      " |\n",
      " |  read(self, size=-1, /)\n",
      " |      Read at most size characters from stream.\n",
      " |\n",
      " |      Read from underlying buffer until we have size characters or we hit EOF.\n",
      " |      If size is negative or omitted, read until EOF.\n",
      " |\n",
      " |  readable(self, /)\n",
      " |      Return whether object was opened for reading.\n",
      " |\n",
      " |      If False, read() will raise OSError.\n",
      " |\n",
      " |  readline(self, size=-1, /)\n",
      " |      Read until newline or EOF.\n",
      " |\n",
      " |      Return an empty string if EOF is hit immediately.\n",
      " |      If size is specified, at most size characters will be read.\n",
      " |\n",
      " |  reconfigure(self, /, *, encoding=None, errors=None, newline=None, line_buffering=None, write_through=None)\n",
      " |      Reconfigure the text stream with new parameters.\n",
      " |\n",
      " |      This also does an implicit stream flush.\n",
      " |\n",
      " |  seek(self, cookie, whence=0, /)\n",
      " |      Set the stream position, and return the new stream position.\n",
      " |\n",
      " |        cookie\n",
      " |          Zero or an opaque number returned by tell().\n",
      " |        whence\n",
      " |          The relative position to seek from.\n",
      " |\n",
      " |      Four operations are supported, given by the following argument\n",
      " |      combinations:\n",
      " |\n",
      " |      - seek(0, SEEK_SET): Rewind to the start of the stream.\n",
      " |      - seek(cookie, SEEK_SET): Restore a previous position;\n",
      " |        'cookie' must be a number returned by tell().\n",
      " |      - seek(0, SEEK_END): Fast-forward to the end of the stream.\n",
      " |      - seek(0, SEEK_CUR): Leave the current stream position unchanged.\n",
      " |\n",
      " |      Any other argument combinations are invalid,\n",
      " |      and may raise exceptions.\n",
      " |\n",
      " |  seekable(self, /)\n",
      " |      Return whether object supports random access.\n",
      " |\n",
      " |      If False, seek(), tell() and truncate() will raise OSError.\n",
      " |      This method may need to do a test seek().\n",
      " |\n",
      " |  tell(self, /)\n",
      " |      Return the stream position as an opaque number.\n",
      " |\n",
      " |      The return value of tell() can be given as input to seek(), to restore a\n",
      " |      previous stream position.\n",
      " |\n",
      " |  truncate(self, pos=None, /)\n",
      " |      Truncate file to size bytes.\n",
      " |\n",
      " |      File pointer is left unchanged. Size defaults to the current IO position\n",
      " |      as reported by tell(). Return the new size.\n",
      " |\n",
      " |  writable(self, /)\n",
      " |      Return whether object was opened for writing.\n",
      " |\n",
      " |      If False, write() will raise OSError.\n",
      " |\n",
      " |  write(self, text, /)\n",
      " |      Write string s to stream.\n",
      " |\n",
      " |      Return the number of characters written\n",
      " |      (which is always equal to the length of the string).\n",
      " |\n",
      " |  ----------------------------------------------------------------------\n",
      " |  Data descriptors defined here:\n",
      " |\n",
      " |  buffer\n",
      " |\n",
      " |  closed\n",
      " |\n",
      " |  encoding\n",
      " |      Encoding of the text stream.\n",
      " |\n",
      " |      Subclasses should override.\n",
      " |\n",
      " |  errors\n",
      " |      The error setting of the decoder or encoder.\n",
      " |\n",
      " |      Subclasses should override.\n",
      " |\n",
      " |  line_buffering\n",
      " |\n",
      " |  name\n",
      " |\n",
      " |  newlines\n",
      " |      Line endings translated so far.\n",
      " |\n",
      " |      Only line endings translated during reading are considered.\n",
      " |\n",
      " |      Subclasses should override.\n",
      " |\n",
      " |  write_through\n",
      " |\n",
      " |  ----------------------------------------------------------------------\n",
      " |  Methods inherited from _IOBase:\n",
      " |\n",
      " |  __del__(...)\n",
      " |\n",
      " |  __enter__(...)\n",
      " |\n",
      " |  __exit__(...)\n",
      " |\n",
      " |  __iter__(self, /)\n",
      " |      Implement iter(self).\n",
      " |\n",
      " |  readlines(self, hint=-1, /)\n",
      " |      Return a list of lines from the stream.\n",
      " |\n",
      " |      hint can be specified to control the number of lines read: no more\n",
      " |      lines will be read if the total size (in bytes/characters) of all\n",
      " |      lines so far exceeds hint.\n",
      " |\n",
      " |  writelines(self, lines, /)\n",
      " |      Write a list of lines to stream.\n",
      " |\n",
      " |      Line separators are not added, so it is usual for each of the\n",
      " |      lines provided to have a line separator at the end.\n",
      " |\n",
      " |  ----------------------------------------------------------------------\n",
      " |  Data descriptors inherited from _IOBase:\n",
      " |\n",
      " |  __dict__\n",
      "\n"
     ]
    }
   ],
   "source": [
    "help(f)"
   ]
  },
  {
   "cell_type": "code",
   "execution_count": 117,
   "id": "296887d7-cdcf-44ed-8fbb-1b63225c47a1",
   "metadata": {},
   "outputs": [
    {
     "data": {
      "text/plain": [
       "31"
      ]
     },
     "execution_count": 117,
     "metadata": {},
     "output_type": "execute_result"
    }
   ],
   "source": [
    "f.write(\"What are the roots that clutch?\")"
   ]
  },
  {
   "cell_type": "code",
   "execution_count": 118,
   "id": "64db3968-a325-4c45-890d-c4b2df88a88f",
   "metadata": {},
   "outputs": [
    {
     "data": {
      "text/plain": [
       "20"
      ]
     },
     "execution_count": 118,
     "metadata": {},
     "output_type": "execute_result"
    }
   ],
   "source": [
    "f.write(\"What branches grow?\\n\")"
   ]
  },
  {
   "cell_type": "code",
   "execution_count": 120,
   "id": "35179dfc-e379-49e1-872b-b807e7870d41",
   "metadata": {},
   "outputs": [
    {
     "data": {
      "text/plain": [
       "1"
      ]
     },
     "execution_count": 120,
     "metadata": {},
     "output_type": "execute_result"
    }
   ],
   "source": [
    "f.write(\"\\n\")"
   ]
  },
  {
   "cell_type": "code",
   "execution_count": 121,
   "id": "f0e7399b-b4ed-4265-92ee-beb98152916c",
   "metadata": {},
   "outputs": [],
   "source": [
    "f.close()"
   ]
  },
  {
   "cell_type": "code",
   "execution_count": 122,
   "id": "5ac557e5-07e0-4316-a084-9b2fc7fbb5bc",
   "metadata": {},
   "outputs": [],
   "source": [
    "g = open(\"wasteland.txt\", mode=\"rt\", encoding=\"utf-8\")"
   ]
  },
  {
   "cell_type": "code",
   "execution_count": 123,
   "id": "f9a3df60-8f0b-412b-8a19-7e8343c92563",
   "metadata": {},
   "outputs": [
    {
     "data": {
      "text/plain": [
       "'What are the roots that clutch?'"
      ]
     },
     "execution_count": 123,
     "metadata": {},
     "output_type": "execute_result"
    }
   ],
   "source": [
    "g.read(31)"
   ]
  },
  {
   "cell_type": "code",
   "execution_count": 124,
   "id": "ffc09695-4f32-45d2-a093-1de413becb20",
   "metadata": {},
   "outputs": [
    {
     "data": {
      "text/plain": [
       "'What branches grow?\\n\\n'"
      ]
     },
     "execution_count": 124,
     "metadata": {},
     "output_type": "execute_result"
    }
   ],
   "source": [
    "g.read()"
   ]
  },
  {
   "cell_type": "code",
   "execution_count": 125,
   "id": "1b3fe958-4056-477b-ae4d-5cd52dec6b51",
   "metadata": {},
   "outputs": [
    {
     "data": {
      "text/plain": [
       "''"
      ]
     },
     "execution_count": 125,
     "metadata": {},
     "output_type": "execute_result"
    }
   ],
   "source": [
    "g.read()"
   ]
  },
  {
   "cell_type": "code",
   "execution_count": 126,
   "id": "90bfe76c-7a11-4516-a5de-fd7de9d65d1a",
   "metadata": {},
   "outputs": [
    {
     "data": {
      "text/plain": [
       "0"
      ]
     },
     "execution_count": 126,
     "metadata": {},
     "output_type": "execute_result"
    }
   ],
   "source": [
    "g.seek(0)"
   ]
  },
  {
   "cell_type": "code",
   "execution_count": 127,
   "id": "7909b683-e837-4e52-b4ae-87106238f5f0",
   "metadata": {},
   "outputs": [
    {
     "data": {
      "text/plain": [
       "'What are the roots that clutch?What branches grow?\\n'"
      ]
     },
     "execution_count": 127,
     "metadata": {},
     "output_type": "execute_result"
    }
   ],
   "source": [
    "g.readline()"
   ]
  },
  {
   "cell_type": "code",
   "execution_count": 128,
   "id": "45b58c62-fa65-419f-8f0a-95a8ac3b3977",
   "metadata": {},
   "outputs": [
    {
     "data": {
      "text/plain": [
       "'\\n'"
      ]
     },
     "execution_count": 128,
     "metadata": {},
     "output_type": "execute_result"
    }
   ],
   "source": [
    "g.readline()"
   ]
  },
  {
   "cell_type": "code",
   "execution_count": 129,
   "id": "efd98cac-653e-4fee-ba65-8a56adeeca09",
   "metadata": {},
   "outputs": [
    {
     "data": {
      "text/plain": [
       "''"
      ]
     },
     "execution_count": 129,
     "metadata": {},
     "output_type": "execute_result"
    }
   ],
   "source": [
    "g.readline()"
   ]
  },
  {
   "cell_type": "code",
   "execution_count": 130,
   "id": "13625c05-aeae-414e-b07b-4f2138469ea3",
   "metadata": {},
   "outputs": [
    {
     "data": {
      "text/plain": [
       "''"
      ]
     },
     "execution_count": 130,
     "metadata": {},
     "output_type": "execute_result"
    }
   ],
   "source": [
    "g.readline()"
   ]
  },
  {
   "cell_type": "code",
   "execution_count": 133,
   "id": "267ba820-bed3-40fa-95ce-3a04fe26a1db",
   "metadata": {},
   "outputs": [
    {
     "data": {
      "text/plain": [
       "0"
      ]
     },
     "execution_count": 133,
     "metadata": {},
     "output_type": "execute_result"
    }
   ],
   "source": [
    "g.seek(0)"
   ]
  },
  {
   "cell_type": "code",
   "execution_count": 134,
   "id": "4e4d62a5-930e-4b88-b919-d8a406bd3f82",
   "metadata": {},
   "outputs": [
    {
     "data": {
      "text/plain": [
       "['What are the roots that clutch?What branches grow?\\n', '\\n']"
      ]
     },
     "execution_count": 134,
     "metadata": {},
     "output_type": "execute_result"
    }
   ],
   "source": [
    "g.readlines()"
   ]
  },
  {
   "cell_type": "code",
   "execution_count": 135,
   "id": "70327105-e0ac-47c3-8549-5f138d4035c6",
   "metadata": {},
   "outputs": [],
   "source": [
    "g.close()"
   ]
  },
  {
   "cell_type": "code",
   "execution_count": 136,
   "id": "d21d5545-48ff-4e4e-b3c3-adb456597fee",
   "metadata": {},
   "outputs": [],
   "source": [
    "h = open(\"wasteland.txt\", mode=\"at\", encoding=\"utf-8\")"
   ]
  },
  {
   "cell_type": "code",
   "execution_count": 137,
   "id": "713b17e7-49d7-44e3-88e4-471cfea615f6",
   "metadata": {},
   "outputs": [],
   "source": [
    "h.writelines(['Son of man,\\n',\n",
    "              'You cannot say, or guess ',\n",
    "              'for you know only\\n',\n",
    "              'A heap of broken images ',\n",
    "              'where the sun beats\\n'])\n",
    "              "
   ]
  },
  {
   "cell_type": "code",
   "execution_count": 138,
   "id": "af1f1e26-969f-48ee-a5dd-97f184b9e823",
   "metadata": {},
   "outputs": [],
   "source": [
    "h.close()"
   ]
  },
  {
   "cell_type": "markdown",
   "id": "ff0d942e-b45e-48f4-8c33-dcb54de8fae5",
   "metadata": {},
   "source": [
    "can investigate later, the use of .tell() method when writing binary files"
   ]
  },
  {
   "cell_type": "code",
   "execution_count": 149,
   "id": "3ea316c2-655e-4600-9bfd-c133dcafcb1e",
   "metadata": {},
   "outputs": [],
   "source": [
    "class TheGreat:\n",
    "    pass\n",
    "\n",
    "tg = TheGreat()"
   ]
  },
  {
   "cell_type": "code",
   "execution_count": 150,
   "id": "a038c9b1-74c6-4042-a307-99888071cbeb",
   "metadata": {},
   "outputs": [],
   "source": [
    "tg.attr1 = 'new attr 1'"
   ]
  },
  {
   "cell_type": "code",
   "execution_count": 151,
   "id": "91e088fb-5680-4b62-ad39-c1c8eb401f9b",
   "metadata": {},
   "outputs": [
    {
     "data": {
      "text/plain": [
       "'new attr 1'"
      ]
     },
     "execution_count": 151,
     "metadata": {},
     "output_type": "execute_result"
    }
   ],
   "source": [
    "tg.attr1"
   ]
  },
  {
   "cell_type": "code",
   "execution_count": 143,
   "id": "bf4dc1f2-b5d2-4f32-b33c-ce38adcef4ab",
   "metadata": {},
   "outputs": [
    {
     "ename": "AttributeError",
     "evalue": "'str' object has no attribute 'newattr1'",
     "output_type": "error",
     "traceback": [
      "\u001b[0;31m---------------------------------------------------------------------------\u001b[0m",
      "\u001b[0;31mAttributeError\u001b[0m                            Traceback (most recent call last)",
      "Cell \u001b[0;32mIn[143], line 2\u001b[0m\n\u001b[1;32m      1\u001b[0m a \u001b[38;5;241m=\u001b[39m \u001b[38;5;124m\"\u001b[39m\u001b[38;5;124msomestring\u001b[39m\u001b[38;5;124m\"\u001b[39m\n\u001b[0;32m----> 2\u001b[0m \u001b[43ma\u001b[49m\u001b[38;5;241;43m.\u001b[39;49m\u001b[43mnewattr1\u001b[49m \u001b[38;5;241m=\u001b[39m \u001b[38;5;124m\"\u001b[39m\u001b[38;5;124mjunk\u001b[39m\u001b[38;5;124m\"\u001b[39m\n",
      "\u001b[0;31mAttributeError\u001b[0m: 'str' object has no attribute 'newattr1'"
     ]
    }
   ],
   "source": [
    "a = \"somestring\"\n",
    "a.newattr1 = \"junk\""
   ]
  },
  {
   "cell_type": "code",
   "execution_count": 152,
   "id": "786d418a-a872-4616-924e-548be2043916",
   "metadata": {},
   "outputs": [
    {
     "name": "stdout",
     "output_type": "stream",
     "text": [
      "<class 'module'>\n",
      "<class 'module'>\n"
     ]
    }
   ],
   "source": [
    "import urllib\n",
    "import urllib.request\n",
    "\n",
    "print(type(urllib))\n",
    "print(type(urllib.request))"
   ]
  },
  {
   "cell_type": "code",
   "execution_count": 153,
   "id": "0d85b09f-6de9-4923-be36-23bc9813da81",
   "metadata": {},
   "outputs": [
    {
     "data": {
      "text/plain": [
       "['/usr/local/lib/python3.12/urllib']"
      ]
     },
     "execution_count": 153,
     "metadata": {},
     "output_type": "execute_result"
    }
   ],
   "source": [
    "urllib.__path__"
   ]
  },
  {
   "cell_type": "code",
   "execution_count": 154,
   "id": "f8899446-d6ef-4db8-b294-5390a6ee2eee",
   "metadata": {},
   "outputs": [
    {
     "ename": "AttributeError",
     "evalue": "module 'urllib.request' has no attribute '__path__'",
     "output_type": "error",
     "traceback": [
      "\u001b[0;31m---------------------------------------------------------------------------\u001b[0m",
      "\u001b[0;31mAttributeError\u001b[0m                            Traceback (most recent call last)",
      "Cell \u001b[0;32mIn[154], line 1\u001b[0m\n\u001b[0;32m----> 1\u001b[0m \u001b[43murllib\u001b[49m\u001b[38;5;241;43m.\u001b[39;49m\u001b[43mrequest\u001b[49m\u001b[38;5;241;43m.\u001b[39;49m\u001b[43m__path__\u001b[49m\n",
      "\u001b[0;31mAttributeError\u001b[0m: module 'urllib.request' has no attribute '__path__'"
     ]
    }
   ],
   "source": [
    "urllib.request.__path__"
   ]
  },
  {
   "cell_type": "code",
   "execution_count": 155,
   "id": "7f04a7e9-a062-4a2c-b6f6-f094caf443eb",
   "metadata": {},
   "outputs": [
    {
     "data": {
      "text/plain": [
       "'/workspaces/SimplePythonEnv/MyCode/Exercises'"
      ]
     },
     "execution_count": 155,
     "metadata": {},
     "output_type": "execute_result"
    }
   ],
   "source": [
    "import os\n",
    "os.getcwd()"
   ]
  },
  {
   "cell_type": "code",
   "execution_count": 156,
   "id": "bca7d3a5-de30-4a0d-8b03-65ff583db399",
   "metadata": {},
   "outputs": [
    {
     "data": {
      "text/plain": [
       "['/workspaces/SimplePythonEnv/MyCode/Exercises',\n",
       " '/usr/local/lib/python312.zip',\n",
       " '/usr/local/lib/python3.12',\n",
       " '/usr/local/lib/python3.12/lib-dynload',\n",
       " '',\n",
       " '/usr/local/lib/python3.12/site-packages']"
      ]
     },
     "execution_count": 156,
     "metadata": {},
     "output_type": "execute_result"
    }
   ],
   "source": [
    "import sys\n",
    "sys.path"
   ]
  },
  {
   "cell_type": "code",
   "execution_count": null,
   "id": "32a4e920-61b7-49a5-9d41-af78007bef97",
   "metadata": {},
   "outputs": [],
   "source": []
  }
 ],
 "metadata": {
  "kernelspec": {
   "display_name": "Python 3 (ipykernel)",
   "language": "python",
   "name": "python3"
  },
  "language_info": {
   "codemirror_mode": {
    "name": "ipython",
    "version": 3
   },
   "file_extension": ".py",
   "mimetype": "text/x-python",
   "name": "python",
   "nbconvert_exporter": "python",
   "pygments_lexer": "ipython3",
   "version": "3.12.1"
  }
 },
 "nbformat": 4,
 "nbformat_minor": 5
}
